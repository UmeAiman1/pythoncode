{
 "cells": [
  {
   "cell_type": "code",
   "execution_count": 2,
   "id": "93a89896",
   "metadata": {},
   "outputs": [
    {
     "name": "stdout",
     "output_type": "stream",
     "text": [
      "4\n",
      "enter your nameafd\n",
      "enter your score4\n",
      "enter your namefdsg\n",
      "enter your score5\n",
      "enter your namegvsdgd\n",
      "enter your score3\n",
      "enter your namedasf\n",
      "enter your score6\n"
     ]
    }
   ],
   "source": [
    " for _ in range(int(input())):\n",
    "        name = input(\"enter your name\")\n",
    "        score = float(input(\"enter your score\"))"
   ]
  },
  {
   "cell_type": "code",
   "execution_count": 1,
   "id": "f6c94ef6",
   "metadata": {
    "scrolled": true
   },
   "outputs": [
    {
     "name": "stdout",
     "output_type": "stream",
     "text": [
      "2\n",
      "a\n",
      "3\n",
      "sa\n",
      "4\n",
      "sa\n"
     ]
    }
   ],
   "source": [
    "res=[]\n",
    "grade=[]\n",
    "names=[]\n",
    "for _ in range(int(input())):\n",
    "    name = input()\n",
    "    score=float(input())\n",
    "    res.append([name,score])\n",
    "    grade.append(score)\n",
    "\n",
    "grade.sort(reverse=True)\n",
    "m=grade[1]\n",
    "\n",
    "for val in res:\n",
    "    if m == val[1]:\n",
    "        names.append([val[0]])\n",
    "names.sort()\n",
    "print(name)"
   ]
  },
  {
   "cell_type": "code",
   "execution_count": 29,
   "id": "f1831557",
   "metadata": {},
   "outputs": [
    {
     "name": "stdout",
     "output_type": "stream",
     "text": [
      "2\n",
      "sd\n",
      "34\n",
      "sd\n",
      "34\n",
      "['sd', 'sd']\n"
     ]
    }
   ],
   "source": [
    "res = []\n",
    "grade = []\n",
    "name = []\n",
    "\n",
    "for _ in range(int(input())):\n",
    "    student_name = input()\n",
    "    score = float(input())\n",
    "    res.append([student_name, score])\n",
    "    grade.append(score)\n",
    "\n",
    "grade.sort(reverse=True)\n",
    "second_highest_grade = grade[1]\n",
    "\n",
    "for val in res:\n",
    "    if second_highest_grade == val[1]:\n",
    "        name.append(val[0])\n",
    "\n",
    "name.sort()  # Sort the list of names alphabetically\n",
    "print(name)\n",
    "\n",
    "\n",
    "n=int(input())\n",
    "res=[]\n",
    "grade=[]\n",
    "for i in range(n):\n",
    "    name=input()\n",
    "    mark=float(input())\n",
    "    res.append([name,mark])\n",
    "    grade.append(mark)   #calculation 2nd lowest\n",
    "#print(res)   \n",
    "#print(grade)\n",
    "grade=sorted(set(grade))  #sorted unique\n",
    "#print(grade)\n",
    "m=grade[1]\n",
    "#print(m)\n",
    "name=[]\n",
    "for val in res:\n",
    "    if m==val[1]:\n",
    "        name.append(val[0])\n",
    "#print(name)   #unsorted     \n",
    "name.sort()\n",
    "#print(name)   #sorted\n",
    "for nm in name:\n",
    "    print(nm)"
   ]
  },
  {
   "cell_type": "code",
   "execution_count": 22,
   "id": "9e53e85f",
   "metadata": {},
   "outputs": [
    {
     "name": "stdout",
     "output_type": "stream",
     "text": [
      "2\n",
      "sd\n",
      "23\n",
      "asdf\n",
      "43\n",
      "[23.0, 43.0]\n"
     ]
    }
   ],
   "source": [
    "res = []\n",
    "grade = []\n",
    "\n",
    "for _ in range(int(input())):\n",
    "    name = input()\n",
    "    score = float(input())\n",
    "    res.append([name, score])  # Append the name-score pair as a list [name, score]\n",
    "    grade.append(score)        # Append the score directly, not as [score]\n",
    "\n",
    "grade = sorted(set(grade))  # Find unique grades and sort them\n",
    "\n",
    "print(grade)\n"
   ]
  },
  {
   "cell_type": "code",
   "execution_count": 4,
   "id": "823c9d37",
   "metadata": {},
   "outputs": [
    {
     "name": "stdout",
     "output_type": "stream",
     "text": [
      "2\n",
      "df\n",
      "4\n",
      "df\n",
      "56\n",
      "[]\n"
     ]
    }
   ],
   "source": [
    "res =[]\n",
    "grade= []\n",
    "names=[]\n",
    "if __name__ == '__main__':\n",
    "    for _ in range(int(input())):\n",
    "        name = input()\n",
    "        score = float(input())\n",
    "        res.append([name,score])\n",
    "        grade.append(score)\n",
    "        \n",
    "m = grade[1]\n",
    "for val in res:\n",
    "    if m == val:\n",
    "        names.append(val[0])\n",
    "    \n",
    "names.sort()\n",
    "print(names)"
   ]
  }
 ],
 "metadata": {
  "kernelspec": {
   "display_name": "Python 3",
   "language": "python",
   "name": "python3"
  },
  "language_info": {
   "codemirror_mode": {
    "name": "ipython",
    "version": 3
   },
   "file_extension": ".py",
   "mimetype": "text/x-python",
   "name": "python",
   "nbconvert_exporter": "python",
   "pygments_lexer": "ipython3",
   "version": "3.8.8"
  }
 },
 "nbformat": 4,
 "nbformat_minor": 5
}
