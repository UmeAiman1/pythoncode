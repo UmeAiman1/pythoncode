{
 "cells": [
  {
   "cell_type": "code",
   "execution_count": 28,
   "id": "3d25407e",
   "metadata": {},
   "outputs": [
    {
     "name": "stdout",
     "output_type": "stream",
     "text": [
      "344\n",
      "101011000"
     ]
    }
   ],
   "source": [
    "def decimal_to_binary():\n",
    "    num = int(input())\n",
    "    arr=[]\n",
    "    while num > 0:\n",
    "        arr.append(num%2)\n",
    "        num //= 2\n",
    "    for i in range(len(arr) - 1,-1, -1):\n",
    "        print(arr[i],end='')\n",
    "decimal_to_binary()"
   ]
  },
  {
   "cell_type": "code",
   "execution_count": 8,
   "id": "80688a97",
   "metadata": {},
   "outputs": [
    {
     "name": "stdout",
     "output_type": "stream",
     "text": [
      "4\n"
     ]
    }
   ],
   "source": [
    "def largest_no(num):\n",
    "    largest_num =0\n",
    "    while num > 0:\n",
    "        current_num = num%10\n",
    "        if current_num > largest_num:\n",
    "            largest_num = current_num\n",
    "        num=num//10\n",
    "    print(largest_num)\n",
    "    \n",
    "largest_no(3423423)"
   ]
  },
  {
   "cell_type": "code",
   "execution_count": 19,
   "id": "bc8b4a78",
   "metadata": {},
   "outputs": [
    {
     "name": "stdout",
     "output_type": "stream",
     "text": [
      "0\n"
     ]
    }
   ],
   "source": [
    "def min_no(num):\n",
    "    minnum = num % 10\n",
    "    num //= 10\n",
    "    while num > 0:\n",
    "        currentnum = num % 10\n",
    "        if currentnum < minnum:\n",
    "            minnum = currentnum\n",
    "        num //= 10\n",
    "    print(minnum)\n",
    "\n",
    "min_no(4545230)"
   ]
  },
  {
   "cell_type": "code",
   "execution_count": 23,
   "id": "7709b7ce",
   "metadata": {},
   "outputs": [
    {
     "name": "stdout",
     "output_type": "stream",
     "text": [
      "5\n"
     ]
    }
   ],
   "source": [
    "def sumofnum(num):\n",
    "    sumnum=0\n",
    "    while num > 0:\n",
    "        remainder = num%10\n",
    "        sumnum=sumnum+remainder\n",
    "        num //= 10\n",
    "        \n",
    "    print(sumnum)\n",
    "\n",
    "sumofnum(23)"
   ]
  },
  {
   "cell_type": "code",
   "execution_count": 28,
   "id": "d02e188a",
   "metadata": {},
   "outputs": [
    {
     "name": "stdout",
     "output_type": "stream",
     "text": [
      "9\n",
      "0\n"
     ]
    },
    {
     "data": {
      "text/plain": [
       "True"
      ]
     },
     "execution_count": 28,
     "metadata": {},
     "output_type": "execute_result"
    }
   ],
   "source": [
    "def between_small_large(num):\n",
    "    largest_num =0\n",
    "    while num > 0:\n",
    "        current_num = num%10\n",
    "        if current_num > largest_num:\n",
    "            largest_num = current_num\n",
    "        num=num//10\n",
    "    print(largest_num)\n",
    "    minnum = num % 10\n",
    "    num //= 10\n",
    "    while num > 0:\n",
    "        currentnum = num % 10\n",
    "        if currentnum < minnum:\n",
    "            minnum = currentnum\n",
    "        num //= 10\n",
    "    print(minnum)\n",
    "    sumnum=0\n",
    "    while num > 0:\n",
    "        remainder = num%10\n",
    "        sumnum=sumnum+remainder\n",
    "        num //= 10\n",
    "    if sumnum < largest_num or sumnum > minnum:\n",
    "        return True\n",
    "    else:\n",
    "        return False\n",
    "\n",
    "between_small_large(9082394892)"
   ]
  },
  {
   "cell_type": "code",
   "execution_count": 34,
   "id": "f06c4d71",
   "metadata": {},
   "outputs": [
    {
     "name": "stdout",
     "output_type": "stream",
     "text": [
      "False\n"
     ]
    }
   ],
   "source": [
    "def between_small_large(num):\n",
    "    # Finding the largest number\n",
    "    largest_num = 0\n",
    "    original_num = num  # Storing the original number\n",
    "    while num > 0:\n",
    "        current_num = num % 10\n",
    "        if current_num > largest_num:\n",
    "            largest_num = current_num\n",
    "        num = num // 10\n",
    "    num = original_num  \n",
    "    min_num = 9  \n",
    "    while num > 0:\n",
    "        current_num = num % 10\n",
    "        if current_num < min_num:\n",
    "            min_num = current_num\n",
    "        num = num // 10\n",
    "    num = original_num  \n",
    "    sum_num = 0\n",
    "    while num > 0:\n",
    "        remainder = num % 10\n",
    "        sum_num += remainder\n",
    "        num //= 10\n",
    "\n",
    "    if min_num < sum_num < largest_num:\n",
    "        return True\n",
    "    else:\n",
    "        return False\n",
    "\n",
    "print(between_small_large(126))"
   ]
  }
 ],
 "metadata": {
  "kernelspec": {
   "display_name": "Python 3",
   "language": "python",
   "name": "python3"
  },
  "language_info": {
   "codemirror_mode": {
    "name": "ipython",
    "version": 3
   },
   "file_extension": ".py",
   "mimetype": "text/x-python",
   "name": "python",
   "nbconvert_exporter": "python",
   "pygments_lexer": "ipython3",
   "version": "3.8.8"
  }
 },
 "nbformat": 4,
 "nbformat_minor": 5
}
