{
 "cells": [
  {
   "cell_type": "code",
   "execution_count": 1,
   "id": "445aee4e",
   "metadata": {},
   "outputs": [
    {
     "name": "stdout",
     "output_type": "stream",
     "text": [
      "Alice's scores: [85, 90, 88]\n",
      "Bob's scores: [75, 80, 82]\n",
      "Charlie's scores: [90, 92, 88]\n"
     ]
    }
   ],
   "source": [
    "# Define a dictionary\n",
    "student_marks = {\n",
    "    \"Alice\": [85, 90, 88],\n",
    "    \"Bob\": [75, 80, 82],\n",
    "    \"Charlie\": [90, 92, 88]\n",
    "}\n",
    "\n",
    "# Retrieve values using keys\n",
    "alice_scores = student_marks[\"Alice\"]\n",
    "bob_scores = student_marks[\"Bob\"]\n",
    "charlie_scores = student_marks[\"Charlie\"]\n",
    "\n",
    "# Print the retrieved values\n",
    "print(\"Alice's scores:\", alice_scores)\n",
    "print(\"Bob's scores:\", bob_scores)\n",
    "print(\"Charlie's scores:\", charlie_scores)\n"
   ]
  },
  {
   "cell_type": "code",
   "execution_count": null,
   "id": "e16bb64a",
   "metadata": {},
   "outputs": [],
   "source": []
  }
 ],
 "metadata": {
  "kernelspec": {
   "display_name": "Python 3",
   "language": "python",
   "name": "python3"
  },
  "language_info": {
   "codemirror_mode": {
    "name": "ipython",
    "version": 3
   },
   "file_extension": ".py",
   "mimetype": "text/x-python",
   "name": "python",
   "nbconvert_exporter": "python",
   "pygments_lexer": "ipython3",
   "version": "3.8.8"
  }
 },
 "nbformat": 4,
 "nbformat_minor": 5
}
