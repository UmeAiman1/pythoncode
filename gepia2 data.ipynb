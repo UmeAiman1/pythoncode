{
 "cells": [
  {
   "cell_type": "code",
   "execution_count": 1,
   "id": "51cf3378",
   "metadata": {},
   "outputs": [],
   "source": [
    "import pandas"
   ]
  },
  {
   "cell_type": "code",
   "execution_count": 2,
   "id": "9bfd3139",
   "metadata": {},
   "outputs": [],
   "source": [
    "import requests\n",
    "from bs4 import BeautifulSoup\n",
    "\n",
    "# Example: Retrieve gene expression for TP53 from GEPIA2\n",
    "gene_name = \"TP53\"\n",
    "url = f\"http://gepia2.cancer-pku.cn/gene_expression.html?gene={gene_name}\"\n",
    "response = requests.get(url)\n",
    "soup = BeautifulSoup(response.content, \"html.parser\")\n",
    "# Extract relevant data from the webpage (e.g., expression levels)\n",
    "# ...\n",
    "\n",
    "# Process the data as needed (e.g., convert to Pandas DataFrame)\n",
    "# ...\n",
    "\n",
    "# Analyze and visualize the results\n",
    "# ...\n"
   ]
  },
  {
   "cell_type": "code",
   "execution_count": 3,
   "id": "c487893d",
   "metadata": {},
   "outputs": [
    {
     "data": {
      "text/plain": [
       "<!DOCTYPE HTML PUBLIC \"-//IETF//DTD HTML 2.0//EN\">\n",
       "\n",
       "<html><head>\n",
       "<title>404 Not Found</title>\n",
       "</head><body>\n",
       "<h1>Not Found</h1>\n",
       "<p>The requested URL /gene_expression.html was not found on this server.</p>\n",
       "<hr/>\n",
       "<address>Apache/2.4.18 (Ubuntu) Server at gepia2.cancer-pku.cn Port 80</address>\n",
       "</body></html>"
      ]
     },
     "execution_count": 3,
     "metadata": {},
     "output_type": "execute_result"
    }
   ],
   "source": [
    "soup"
   ]
  },
  {
   "cell_type": "code",
   "execution_count": 5,
   "id": "38a6bb9e",
   "metadata": {},
   "outputs": [
    {
     "ename": "AttributeError",
     "evalue": "'NoneType' object has no attribute 'text'",
     "output_type": "error",
     "traceback": [
      "\u001b[1;31m---------------------------------------------------------------------------\u001b[0m",
      "\u001b[1;31mAttributeError\u001b[0m                            Traceback (most recent call last)",
      "\u001b[1;32m<ipython-input-5-2b327522b58b>\u001b[0m in \u001b[0;36m<module>\u001b[1;34m\u001b[0m\n\u001b[0;32m     15\u001b[0m \u001b[1;33m\u001b[0m\u001b[0m\n\u001b[0;32m     16\u001b[0m \u001b[1;31m# Extract the expression value (you may need to adjust this based on the actual HTML structure)\u001b[0m\u001b[1;33m\u001b[0m\u001b[1;33m\u001b[0m\u001b[1;33m\u001b[0m\u001b[0m\n\u001b[1;32m---> 17\u001b[1;33m \u001b[0mexpression_value\u001b[0m \u001b[1;33m=\u001b[0m \u001b[0mexpression_element\u001b[0m\u001b[1;33m.\u001b[0m\u001b[0mtext\u001b[0m\u001b[1;33m.\u001b[0m\u001b[0mstrip\u001b[0m\u001b[1;33m(\u001b[0m\u001b[1;33m)\u001b[0m\u001b[1;33m\u001b[0m\u001b[1;33m\u001b[0m\u001b[0m\n\u001b[0m\u001b[0;32m     18\u001b[0m \u001b[1;33m\u001b[0m\u001b[0m\n\u001b[0;32m     19\u001b[0m \u001b[0mprint\u001b[0m\u001b[1;33m(\u001b[0m\u001b[1;34mf\"Expression level of {gene_name}: {expression_value}\"\u001b[0m\u001b[1;33m)\u001b[0m\u001b[1;33m\u001b[0m\u001b[1;33m\u001b[0m\u001b[0m\n",
      "\u001b[1;31mAttributeError\u001b[0m: 'NoneType' object has no attribute 'text'"
     ]
    }
   ],
   "source": [
    "import requests\n",
    "from bs4 import BeautifulSoup\n",
    "\n",
    "# Define the gene name\n",
    "gene_name = \"TP53\"\n",
    "url = f\"http://gepia2.cancer-pku.cn/gene_expression.html?gene={gene_name}\"\n",
    "\n",
    "# Fetch the webpage content\n",
    "response = requests.get(url)\n",
    "soup = BeautifulSoup(response.content, \"html.parser\")\n",
    "\n",
    "# Find the relevant HTML element (e.g., <div> or <span>) containing expression data\n",
    "# Example: If expression data is in a <span> with class \"expression-level\":\n",
    "expression_element = soup.find(\"span\", class_=\"expression-level\")\n",
    "\n",
    "# Extract the expression value (you may need to adjust this based on the actual HTML structure)\n",
    "expression_value = expression_element.text.strip()\n",
    "\n",
    "print(f\"Expression level of {gene_name}: {expression_value}\")\n"
   ]
  },
  {
   "cell_type": "code",
   "execution_count": 6,
   "id": "ea6299e1",
   "metadata": {},
   "outputs": [
    {
     "ename": "AttributeError",
     "evalue": "'NoneType' object has no attribute 'text'",
     "output_type": "error",
     "traceback": [
      "\u001b[1;31m---------------------------------------------------------------------------\u001b[0m",
      "\u001b[1;31mAttributeError\u001b[0m                            Traceback (most recent call last)",
      "\u001b[1;32m<ipython-input-6-f8f8e4899411>\u001b[0m in \u001b[0;36m<module>\u001b[1;34m\u001b[0m\n\u001b[0;32m     15\u001b[0m \u001b[1;33m\u001b[0m\u001b[0m\n\u001b[0;32m     16\u001b[0m \u001b[1;31m# Extract the expression value (you may need to adjust this based on the actual HTML structure)\u001b[0m\u001b[1;33m\u001b[0m\u001b[1;33m\u001b[0m\u001b[1;33m\u001b[0m\u001b[0m\n\u001b[1;32m---> 17\u001b[1;33m \u001b[0mexpression_value\u001b[0m \u001b[1;33m=\u001b[0m \u001b[0mexpression_element\u001b[0m\u001b[1;33m.\u001b[0m\u001b[0mtext\u001b[0m\u001b[1;33m.\u001b[0m\u001b[0mstrip\u001b[0m\u001b[1;33m(\u001b[0m\u001b[1;33m)\u001b[0m\u001b[1;33m\u001b[0m\u001b[1;33m\u001b[0m\u001b[0m\n\u001b[0m\u001b[0;32m     18\u001b[0m \u001b[1;33m\u001b[0m\u001b[0m\n\u001b[0;32m     19\u001b[0m \u001b[0mprint\u001b[0m\u001b[1;33m(\u001b[0m\u001b[1;34mf\"Expression level of {gene_name}: {expression_value}\"\u001b[0m\u001b[1;33m)\u001b[0m\u001b[1;33m\u001b[0m\u001b[1;33m\u001b[0m\u001b[0m\n",
      "\u001b[1;31mAttributeError\u001b[0m: 'NoneType' object has no attribute 'text'"
     ]
    }
   ],
   "source": [
    "import requests\n",
    "from bs4 import BeautifulSoup\n",
    "\n",
    "# Define the gene name\n",
    "gene_name = \"TP53\"\n",
    "url = f\"http://gepia2.cancer-pku.cn/gene_expression.html?gene={gene_name}\"\n",
    "\n",
    "# Fetch the webpage content\n",
    "response = requests.get(url)\n",
    "soup = BeautifulSoup(response.content, \"html.parser\")\n",
    "\n",
    "# Find the relevant HTML element (e.g., <div> or <span>) containing expression data\n",
    "# Example: If expression data is in a <span> with class \"expression-level\":\n",
    "expression_element = soup.find(\"span\", class_=\"expression-level\")\n",
    "\n",
    "# Extract the expression value (you may need to adjust this based on the actual HTML structure)\n",
    "expression_value = expression_element.text.strip()\n",
    "\n",
    "print(f\"Expression level of {gene_name}: {expression_value}\")\n",
    "\n"
   ]
  },
  {
   "cell_type": "code",
   "execution_count": 9,
   "id": "68c93740",
   "metadata": {},
   "outputs": [
    {
     "name": "stdout",
     "output_type": "stream",
     "text": [
      "No expression data found for BRCA1.\n"
     ]
    }
   ],
   "source": [
    "import requests\n",
    "from bs4 import BeautifulSoup\n",
    "\n",
    "# Define the gene name\n",
    "gene_name = \"BRCA1\"\n",
    "url = f\"http://gepia2.cancer-pku.cn/gene_expression.html?gene={gene_name}\"\n",
    "\n",
    "# Fetch the webpage content\n",
    "response = requests.get(url)\n",
    "soup = BeautifulSoup(response.content, \"html.parser\")\n",
    "\n",
    "# Find the relevant HTML element (e.g., <div> or <span>) containing expression data\n",
    "# Example: If expression data is in a <span> with class \"expression-level\":\n",
    "expression_element = soup.find(\"span\", class_=\"expression-level\")\n",
    "\n",
    "# Check if the element exists before accessing its .text attribute\n",
    "if expression_element:\n",
    "    expression_value = expression_element.text.strip()\n",
    "    print(f\"Expression level of {gene_name}: {expression_value}\")\n",
    "else:\n",
    "    print(f\"No expression data found for {gene_name}.\")\n"
   ]
  },
  {
   "cell_type": "code",
   "execution_count": 10,
   "id": "1f98504f",
   "metadata": {},
   "outputs": [
    {
     "name": "stdout",
     "output_type": "stream",
     "text": [
      "No expression data found for BRCA1.\n"
     ]
    }
   ],
   "source": [
    "import requests\n",
    "from bs4 import BeautifulSoup\n",
    "\n",
    "# Define the gene name\n",
    "gene_name = \"BRCA1\"\n",
    "url = f\"http://gepia2.cancer-pku.cn/gene_expression.html?gene={gene_name}\"\n",
    "\n",
    "# Fetch the webpage content\n",
    "response = requests.get(url)\n",
    "soup = BeautifulSoup(response.content, \"html.parser\")\n",
    "\n",
    "# Find the relevant HTML element (e.g., <div> or <span>) containing expression data\n",
    "# Example: If expression data is in a <span> with class \"expression-level\":\n",
    "expression_element = soup.find(\"span\", class_=\"expression-level\")\n",
    "\n",
    "# Check if the element exists before accessing its .text attribute\n",
    "if expression_element:\n",
    "    expression_value = expression_element.text.strip()\n",
    "    print(f\"Expression level of {gene_name}: {expression_value}\")\n",
    "else:\n",
    "    print(f\"No expression data found for {gene_name}.\")\n"
   ]
  },
  {
   "cell_type": "code",
   "execution_count": 11,
   "id": "38098063",
   "metadata": {},
   "outputs": [
    {
     "name": "stdout",
     "output_type": "stream",
     "text": [
      "No expression data found for BRCA1.\n"
     ]
    }
   ],
   "source": [
    "import requests\n",
    "from bs4 import BeautifulSoup\n",
    "\n",
    "# Define the gene name\n",
    "gene_name = \"BRCA1\"\n",
    "url = f\"http://gepia2.cancer-pku.cn/gene_expression.html?gene={gene_name}\"\n",
    "\n",
    "# Fetch the webpage content\n",
    "response = requests.get(url)\n",
    "soup = BeautifulSoup(response.content, \"html.parser\")\n",
    "\n",
    "# Find the relevant HTML element (e.g., <div> or <span>) containing expression data\n",
    "# Example: If expression data is in a <span> with class \"expression-level\":\n",
    "expression_element = soup.find(\"span\", class_=\"expression-level\")\n",
    "\n",
    "# Check if the element exists before accessing its .text attribute\n",
    "if expression_element:\n",
    "    expression_value = expression_element.text.strip()\n",
    "    print(f\"Expression level of {gene_name}: {expression_value}\")\n",
    "else:\n",
    "    print(f\"No expression data found for {gene_name}.\")\n"
   ]
  },
  {
   "cell_type": "code",
   "execution_count": 12,
   "id": "0616d8cb",
   "metadata": {},
   "outputs": [
    {
     "name": "stdout",
     "output_type": "stream",
     "text": [
      "No expression data found for BRCA1.\n"
     ]
    }
   ],
   "source": [
    "import requests\n",
    "from bs4 import BeautifulSoup\n",
    "\n",
    "# Define the gene name\n",
    "gene_name = \"BRCA1\"\n",
    "url = f\"http://gepia2.cancer-pku.cn/gene_expression.html?gene={gene_name}\"\n",
    "\n",
    "# Fetch the webpage content\n",
    "response = requests.get(url)\n",
    "soup = BeautifulSoup(response.content, \"html.parser\")\n",
    "\n",
    "# Find the relevant HTML element (e.g., <div> or <span>) containing expression data\n",
    "# Update according to the actual structure of the webpage\n",
    "expression_element = soup.find(\"span\", class_=\"n\")\n",
    "\n",
    "# Check if the element exists before accessing its .text attribute\n",
    "if expression_element:\n",
    "    expression_value = expression_element.text.strip()\n",
    "    print(f\"Expression level of {gene_name}: {expression_value}\")\n",
    "else:\n",
    "    print(f\"No expression data found for {gene_name}.\")\n"
   ]
  },
  {
   "cell_type": "code",
   "execution_count": 14,
   "id": "9b55f335",
   "metadata": {},
   "outputs": [
    {
     "name": "stdout",
     "output_type": "stream",
     "text": [
      "No expression data found for BRCA1.\n"
     ]
    }
   ],
   "source": [
    "import requests\n",
    "from bs4 import BeautifulSoup\n",
    "\n",
    "# Define the gene name\n",
    "gene_name = \"BRCA1\"\n",
    "url = f\"http://gepia.cancer-pku.cn/detail.php?gene={gene_name}\"\n",
    "\n",
    "# Fetch the webpage content\n",
    "response = requests.get(url)\n",
    "soup = BeautifulSoup(response.content, \"html.parser\")\n",
    "\n",
    "# Find the relevant HTML element containing expression data\n",
    "expression_element = soup.find(\"span\", class_=\"expression-level\")\n",
    "\n",
    "# Check if the element exists before accessing its .text attribute\n",
    "if expression_element:\n",
    "    expression_value = expression_element.text.strip()\n",
    "    print(f\"Expression level of {gene_name}: {expression_value}\")\n",
    "else:\n",
    "    print(f\"No expression data found for {gene_name}.\")\n",
    "\n",
    "    "
   ]
  },
  {
   "cell_type": "code",
   "execution_count": 15,
   "id": "57a51c84",
   "metadata": {},
   "outputs": [
    {
     "name": "stdout",
     "output_type": "stream",
     "text": [
      "No expression data found for BRCA1.\n"
     ]
    }
   ],
   "source": [
    "import requests\n",
    "from bs4 import BeautifulSoup\n",
    "\n",
    "# Define the gene name\n",
    "gene_name = \"BRCA1\"\n",
    "url = f\"http://gepia.cancer-pku.cn/detail.php?gene={gene_name}\"\n",
    "\n",
    "# Fetch the webpage content\n",
    "response = requests.get(url)\n",
    "soup = BeautifulSoup(response.content, \"html.parser\")\n",
    "\n",
    "# Find the relevant HTML element containing expression data\n",
    "expression_element = soup.find(\"td\", class_=\"fs13\")\n",
    "\n",
    "# Check if the element exists before accessing its .text attribute\n",
    "if expression_element:\n",
    "    expression_value = expression_element.text.strip()\n",
    "    print(f\"Expression level of {gene_name}: {expression_value}\")\n",
    "else:\n",
    "    print(f\"No expression data found for {gene_name}.\")\n"
   ]
  },
  {
   "cell_type": "code",
   "execution_count": 19,
   "id": "c7db3610",
   "metadata": {},
   "outputs": [
    {
     "ename": "ModuleNotFoundError",
     "evalue": "No module named 'selenium'",
     "output_type": "error",
     "traceback": [
      "\u001b[1;31m---------------------------------------------------------------------------\u001b[0m",
      "\u001b[1;31mModuleNotFoundError\u001b[0m                       Traceback (most recent call last)",
      "\u001b[1;32m<ipython-input-19-c18f96f0423a>\u001b[0m in \u001b[0;36m<module>\u001b[1;34m\u001b[0m\n\u001b[1;32m----> 1\u001b[1;33m \u001b[1;32mfrom\u001b[0m \u001b[0mselenium\u001b[0m \u001b[1;32mimport\u001b[0m \u001b[0mwebdriver\u001b[0m\u001b[1;33m\u001b[0m\u001b[1;33m\u001b[0m\u001b[0m\n\u001b[0m\u001b[0;32m      2\u001b[0m \u001b[1;32mfrom\u001b[0m \u001b[0mbs4\u001b[0m \u001b[1;32mimport\u001b[0m \u001b[0mBeautifulSoup\u001b[0m\u001b[1;33m\u001b[0m\u001b[1;33m\u001b[0m\u001b[0m\n\u001b[0;32m      3\u001b[0m \u001b[1;33m\u001b[0m\u001b[0m\n\u001b[0;32m      4\u001b[0m \u001b[1;31m# Define the gene name\u001b[0m\u001b[1;33m\u001b[0m\u001b[1;33m\u001b[0m\u001b[1;33m\u001b[0m\u001b[0m\n\u001b[0;32m      5\u001b[0m \u001b[0mgene_name\u001b[0m \u001b[1;33m=\u001b[0m \u001b[1;34m\"BRCA1\"\u001b[0m\u001b[1;33m\u001b[0m\u001b[1;33m\u001b[0m\u001b[0m\n",
      "\u001b[1;31mModuleNotFoundError\u001b[0m: No module named 'selenium'"
     ]
    }
   ],
   "source": [
    "from selenium import webdriver\n",
    "from bs4 import BeautifulSoup\n",
    "\n",
    "# Define the gene name\n",
    "gene_name = \"BRCA1\"\n",
    "url = f\"http://gepia.cancer-pku.cn/detail.php?gene={gene_name}\"\n",
    "\n",
    "# Use Selenium to fetch page content after JavaScript execution\n",
    "driver = webdriver.Chrome()  # Assuming you have Chrome webdriver installed\n",
    "driver.get(url)\n",
    "html_content = driver.page_source\n",
    "driver.quit()\n",
    "\n",
    "# Parse the HTML content\n",
    "soup = BeautifulSoup(html_content, \"html.parser\")\n",
    "\n",
    "# Find the relevant HTML element containing expression data\n",
    "expression_element = soup.find(\"td\", class_=\"fs13\")\n",
    "\n",
    "# Check if the element exists before accessing its .text attribute\n",
    "if expression_element:\n",
    "    expression_value = expression_element.text.strip()\n",
    "    print(f\"Expression level of {gene_name}: {expression_value}\")\n",
    "else:\n",
    "    print(f\"No expression data found for {gene_name}.\")\n"
   ]
  },
  {
   "cell_type": "code",
   "execution_count": 17,
   "id": "47b78686",
   "metadata": {},
   "outputs": [
    {
     "name": "stdout",
     "output_type": "stream",
     "text": [
      "Collecting selenium\n",
      "  Downloading selenium-4.18.1-py3-none-any.whl (10.0 MB)\n",
      "Requirement already satisfied: urllib3[socks]<3,>=1.26 in c:\\programdata\\anaconda3\\lib\\site-packages (from selenium) (1.26.4)\n",
      "Collecting trio-websocket~=0.9\n",
      "  Downloading trio_websocket-0.11.1-py3-none-any.whl (17 kB)\n",
      "Collecting trio~=0.17\n",
      "  Downloading trio-0.24.0-py3-none-any.whl (460 kB)\n",
      "Collecting typing_extensions>=4.9.0\n",
      "  Downloading typing_extensions-4.9.0-py3-none-any.whl (32 kB)\n",
      "Collecting certifi>=2021.10.8\n",
      "  Downloading certifi-2024.2.2-py3-none-any.whl (163 kB)\n",
      "Requirement already satisfied: sortedcontainers in c:\\programdata\\anaconda3\\lib\\site-packages (from trio~=0.17->selenium) (2.3.0)\n",
      "Requirement already satisfied: cffi>=1.14 in c:\\programdata\\anaconda3\\lib\\site-packages (from trio~=0.17->selenium) (1.14.5)\n",
      "Requirement already satisfied: idna in c:\\programdata\\anaconda3\\lib\\site-packages (from trio~=0.17->selenium) (2.10)\n",
      "Collecting exceptiongroup\n",
      "  Downloading exceptiongroup-1.2.0-py3-none-any.whl (16 kB)\n",
      "Collecting sniffio>=1.3.0\n",
      "  Downloading sniffio-1.3.0-py3-none-any.whl (10 kB)\n",
      "Collecting outcome\n",
      "  Downloading outcome-1.3.0.post0-py2.py3-none-any.whl (10 kB)\n",
      "Requirement already satisfied: attrs>=20.1.0 in c:\\programdata\\anaconda3\\lib\\site-packages (from trio~=0.17->selenium) (20.3.0)\n",
      "Requirement already satisfied: pycparser in c:\\programdata\\anaconda3\\lib\\site-packages (from cffi>=1.14->trio~=0.17->selenium) (2.20)\n",
      "Collecting wsproto>=0.14\n",
      "  Downloading wsproto-1.2.0-py3-none-any.whl (24 kB)\n",
      "Requirement already satisfied: PySocks!=1.5.7,<2.0,>=1.5.6 in c:\\programdata\\anaconda3\\lib\\site-packages (from urllib3[socks]<3,>=1.26->selenium) (1.7.1)\n",
      "Collecting h11<1,>=0.9.0\n",
      "  Downloading h11-0.14.0-py3-none-any.whl (58 kB)\n",
      "Installing collected packages: sniffio, outcome, h11, exceptiongroup, wsproto, trio, typing-extensions, trio-websocket, certifi, selenium\n",
      "  Attempting uninstall: sniffio\n",
      "    Found existing installation: sniffio 1.2.0\n",
      "    Uninstalling sniffio-1.2.0:\n",
      "Note: you may need to restart the kernel to use updated packages.\n"
     ]
    },
    {
     "name": "stderr",
     "output_type": "stream",
     "text": [
      "ERROR: Could not install packages due to an OSError: [WinError 5] Access is denied: 'c:\\\\programdata\\\\anaconda3\\\\lib\\\\site-packages\\\\sniffio-1.2.0.dist-info\\\\direct_url.json'\n",
      "Consider using the `--user` option or check the permissions.\n",
      "\n"
     ]
    }
   ],
   "source": [
    "pip install selenium\n"
   ]
  },
  {
   "cell_type": "code",
   "execution_count": 1,
   "id": "7832732b",
   "metadata": {},
   "outputs": [
    {
     "ename": "ModuleNotFoundError",
     "evalue": "No module named 'selenium'",
     "output_type": "error",
     "traceback": [
      "\u001b[1;31m---------------------------------------------------------------------------\u001b[0m",
      "\u001b[1;31mModuleNotFoundError\u001b[0m                       Traceback (most recent call last)",
      "\u001b[1;32m<ipython-input-1-c18f96f0423a>\u001b[0m in \u001b[0;36m<module>\u001b[1;34m\u001b[0m\n\u001b[1;32m----> 1\u001b[1;33m \u001b[1;32mfrom\u001b[0m \u001b[0mselenium\u001b[0m \u001b[1;32mimport\u001b[0m \u001b[0mwebdriver\u001b[0m\u001b[1;33m\u001b[0m\u001b[1;33m\u001b[0m\u001b[0m\n\u001b[0m\u001b[0;32m      2\u001b[0m \u001b[1;32mfrom\u001b[0m \u001b[0mbs4\u001b[0m \u001b[1;32mimport\u001b[0m \u001b[0mBeautifulSoup\u001b[0m\u001b[1;33m\u001b[0m\u001b[1;33m\u001b[0m\u001b[0m\n\u001b[0;32m      3\u001b[0m \u001b[1;33m\u001b[0m\u001b[0m\n\u001b[0;32m      4\u001b[0m \u001b[1;31m# Define the gene name\u001b[0m\u001b[1;33m\u001b[0m\u001b[1;33m\u001b[0m\u001b[1;33m\u001b[0m\u001b[0m\n\u001b[0;32m      5\u001b[0m \u001b[0mgene_name\u001b[0m \u001b[1;33m=\u001b[0m \u001b[1;34m\"BRCA1\"\u001b[0m\u001b[1;33m\u001b[0m\u001b[1;33m\u001b[0m\u001b[0m\n",
      "\u001b[1;31mModuleNotFoundError\u001b[0m: No module named 'selenium'"
     ]
    }
   ],
   "source": [
    "from selenium import webdriver\n",
    "from bs4 import BeautifulSoup\n",
    "\n",
    "# Define the gene name\n",
    "gene_name = \"BRCA1\"\n",
    "url = f\"http://gepia.cancer-pku.cn/detail.php?gene={gene_name}\"\n",
    "\n",
    "# Use Selenium to fetch page content after JavaScript execution\n",
    "driver = webdriver.Chrome()  # Assuming you have Chrome webdriver installed\n",
    "driver.get(url)\n",
    "html_content = driver.page_source\n",
    "driver.quit()\n",
    "\n",
    "# Parse the HTML content\n",
    "soup = BeautifulSoup(html_content, \"html.parser\")\n",
    "\n",
    "# Find the relevant HTML element containing expression data\n",
    "expression_element = soup.find(\"td\", class_=\"fs13\")\n",
    "\n",
    "# Check if the element exists before accessing its .text attribute\n",
    "if expression_element:\n",
    "    expression_value = expression_element.text.strip()\n",
    "    print(f\"Expression level of {gene_name}: {expression_value}\")\n",
    "else:\n",
    "    print(f\"No expression data found for {gene_name}.\")\n"
   ]
  },
  {
   "cell_type": "code",
   "execution_count": null,
   "id": "ab0aad1e",
   "metadata": {},
   "outputs": [],
   "source": []
  },
  {
   "cell_type": "code",
   "execution_count": null,
   "id": "65293558",
   "metadata": {},
   "outputs": [],
   "source": []
  },
  {
   "cell_type": "code",
   "execution_count": null,
   "id": "0fb95e83",
   "metadata": {},
   "outputs": [],
   "source": []
  },
  {
   "cell_type": "code",
   "execution_count": null,
   "id": "a2d0c3f5",
   "metadata": {},
   "outputs": [],
   "source": []
  },
  {
   "cell_type": "code",
   "execution_count": null,
   "id": "cb19218b",
   "metadata": {},
   "outputs": [],
   "source": []
  },
  {
   "cell_type": "code",
   "execution_count": null,
   "id": "2da666f5",
   "metadata": {},
   "outputs": [],
   "source": []
  },
  {
   "cell_type": "code",
   "execution_count": null,
   "id": "7880d619",
   "metadata": {},
   "outputs": [],
   "source": []
  },
  {
   "cell_type": "code",
   "execution_count": null,
   "id": "2ff23d94",
   "metadata": {},
   "outputs": [],
   "source": []
  },
  {
   "cell_type": "code",
   "execution_count": null,
   "id": "d1a07468",
   "metadata": {},
   "outputs": [],
   "source": []
  },
  {
   "cell_type": "code",
   "execution_count": null,
   "id": "edb8452b",
   "metadata": {},
   "outputs": [],
   "source": []
  }
 ],
 "metadata": {
  "kernelspec": {
   "display_name": "Python 3",
   "language": "python",
   "name": "python3"
  },
  "language_info": {
   "codemirror_mode": {
    "name": "ipython",
    "version": 3
   },
   "file_extension": ".py",
   "mimetype": "text/x-python",
   "name": "python",
   "nbconvert_exporter": "python",
   "pygments_lexer": "ipython3",
   "version": "3.8.8"
  }
 },
 "nbformat": 4,
 "nbformat_minor": 5
}
