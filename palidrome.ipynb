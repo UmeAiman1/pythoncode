{
 "cells": [
  {
   "cell_type": "code",
   "execution_count": 4,
   "id": "67a46ea2",
   "metadata": {},
   "outputs": [
    {
     "name": "stdout",
     "output_type": "stream",
     "text": [
      "enter a number1221\n",
      "palindrom\n"
     ]
    }
   ],
   "source": [
    "n = int(input(\"enter a number\"))\n",
    "copy = n; \n",
    "num =0\n",
    "while n != 0:\n",
    "    rem = n %10;\n",
    "    num = (num*10)+rem\n",
    "    n //=10\n",
    "if num == copy:\n",
    "    print(\"palindrom\")\n",
    "else:\n",
    "    print(\"not a palindrom\")\n"
   ]
  }
 ],
 "metadata": {
  "kernelspec": {
   "display_name": "Python 3",
   "language": "python",
   "name": "python3"
  },
  "language_info": {
   "codemirror_mode": {
    "name": "ipython",
    "version": 3
   },
   "file_extension": ".py",
   "mimetype": "text/x-python",
   "name": "python",
   "nbconvert_exporter": "python",
   "pygments_lexer": "ipython3",
   "version": "3.8.8"
  }
 },
 "nbformat": 4,
 "nbformat_minor": 5
}
