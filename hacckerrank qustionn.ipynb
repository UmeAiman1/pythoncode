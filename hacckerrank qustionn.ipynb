{
 "cells": [
  {
   "cell_type": "code",
   "execution_count": 4,
   "id": "e8249e5f",
   "metadata": {},
   "outputs": [
    {
     "name": "stdout",
     "output_type": "stream",
     "text": [
      "2\n",
      "sadf\n",
      "12\n",
      "fsda12\n",
      "45\n",
      "fsda12\n"
     ]
    }
   ],
   "source": [
    "result= []\n",
    "grade = []\n",
    "for i in range(int(input())):\n",
    "    name = input()\n",
    "    mark = float(input())\n",
    "    result.append([name,mark])\n",
    "    grade.append(mark)\n",
    "grade = sorted(set(grade))\n",
    "second_lowest = grade[1]\n",
    "name=[]\n",
    "for i in result:\n",
    "    if second_lowest==i[1]:\n",
    "        name.append(i[0])\n",
    "name.sort()\n",
    "for nm in name:\n",
    "    print(nm)\n",
    "    "
   ]
  },
  {
   "cell_type": "code",
   "execution_count": 5,
   "id": "47324b7a",
   "metadata": {},
   "outputs": [
    {
     "name": "stdout",
     "output_type": "stream",
     "text": [
      "3\n",
      "sdf\n",
      "23\n",
      "asd\n",
      "12\n"
     ]
    }
   ],
   "source": [
    "if __name__ == '__main__':\n",
    "    n = int(input())\n",
    "    student_marks = {}\n",
    "    for _ in range(n):\n",
    "        name, *line = input().split()\n",
    "        scores = list(map(float, line))\n",
    "        student_marks[name] = scores\n",
    "    query_name = input()"
   ]
  },
  {
   "cell_type": "code",
   "execution_count": null,
   "id": "e24b740f",
   "metadata": {},
   "outputs": [],
   "source": []
  }
 ],
 "metadata": {
  "kernelspec": {
   "display_name": "Python 3",
   "language": "python",
   "name": "python3"
  },
  "language_info": {
   "codemirror_mode": {
    "name": "ipython",
    "version": 3
   },
   "file_extension": ".py",
   "mimetype": "text/x-python",
   "name": "python",
   "nbconvert_exporter": "python",
   "pygments_lexer": "ipython3",
   "version": "3.8.8"
  }
 },
 "nbformat": 4,
 "nbformat_minor": 5
}
